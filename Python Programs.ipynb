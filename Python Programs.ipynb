{
 "cells": [
  {
   "cell_type": "markdown",
   "metadata": {},
   "source": [
    "# Python Programs"
   ]
  },
  {
   "cell_type": "markdown",
   "metadata": {},
   "source": [
    "### Q1. W.A.P to check the number is a prime number or not?"
   ]
  },
  {
   "cell_type": "code",
   "execution_count": 1,
   "metadata": {},
   "outputs": [],
   "source": [
    "def check_PrimeNumber():\n",
    "    print(\"Enter a number\")\n",
    "    num = int(input(\"> \"))\n",
    "    j=0\n",
    "    if num<2:\n",
    "        print(\"Enter number greater than 1\")\n",
    "    else:  \n",
    "        for i in range(2,num):\n",
    "            if((num % i) == 0):\n",
    "                print(\"Number is not a prime number\")\n",
    "                j=1\n",
    "                break\n",
    "\n",
    "    if j==0 and num>1:\n",
    "        print(\"Number is a prime number\")"
   ]
  },
  {
   "cell_type": "markdown",
   "metadata": {},
   "source": [
    "### Q2. W.A.P to print all the Prime Numbers in an interval?"
   ]
  },
  {
   "cell_type": "code",
   "execution_count": 2,
   "metadata": {},
   "outputs": [],
   "source": [
    "def print_PrimeNumbers():\n",
    "    lower_number = int(input(\"Enter the lower range\"))\n",
    "    upper_number = int(input(\"Enter the upper range\"))\n",
    "    for i in range(lower_number,upper_number):\n",
    "        a=0\n",
    "        for j in range(2,i):\n",
    "            if((i % j)==0):\n",
    "                a=1\n",
    "                break\n",
    "\n",
    "        if(a==0):\n",
    "            print(i) "
   ]
  },
  {
   "cell_type": "markdown",
   "metadata": {},
   "source": [
    "### Q3. WAP for Numbers less than N which are product of exactly two distinct prime numbers\n",
    "#example input : N = 30\n",
    "\n",
    "#Output : 6, 10, 14, 15, 21, 22, 26\n",
    "\n",
    "#Input : N = 50\n",
    "\n",
    "#Output : 6, 10, 14, 15, 21, 22, 26, 33, 34, 35, 38, 39, 46 \"\"\"\n",
    "\n",
    "We need to see that the number has two factors and that factors are prime numbers."
   ]
  },
  {
   "cell_type": "code",
   "execution_count": 4,
   "metadata": {},
   "outputs": [],
   "source": [
    "def check_PrimeNumber(num):\n",
    "    k=2\n",
    "    for j in range(2,num):\n",
    "        if((num %j) == 0):\n",
    "            k=1\n",
    "            break\n",
    "    return k    \n",
    "        \n",
    "\n",
    "def take_factors(n):\n",
    "    factors = []\n",
    "    if n == 1:\n",
    "        return n\n",
    "    else:\n",
    "        for i in range(2,n):\n",
    "            if((n%i) == 0):\n",
    "                factors.append(i)\n",
    "        return factors\n"
   ]
  },
  {
   "cell_type": "code",
   "execution_count": 5,
   "metadata": {},
   "outputs": [
    {
     "name": "stdout",
     "output_type": "stream",
     "text": [
      "Enter n 30\n",
      "6 10 14 15 21 22 26 \n"
     ]
    }
   ],
   "source": [
    "#check = check_PrimeNumber(5)\n",
    "#print(check)\n",
    "\n",
    "number = int(input(\"Enter n \"))\n",
    "for i in range(2,number+1):\n",
    "    fact = []\n",
    "    #print(f\"Sending {i} for printing its factors \")\n",
    "    fact = take_factors(i)\n",
    "  \n",
    "    if(len(fact)==2):\n",
    "      #Send it to check for prime numbers\n",
    "      #print(f\"factors are{fact}\")\n",
    "        for factor in fact:\n",
    "            check = check_PrimeNumber(factor)\n",
    "            #print(f\"Sending {factor} for prime number checking\")\n",
    "        if check == 2:\n",
    "            print(i, end=' ')  \n",
    "\n",
    "print()      "
   ]
  },
  {
   "cell_type": "markdown",
   "metadata": {},
   "source": [
    "### Q4. #Find product of prime numbers between 1 to n\n",
    "#Input: 5\n",
    "#Output: 30\n",
    "#Explanation: product of prime numbers between 1 to 5 is 2 * 3 * 5 = 30 "
   ]
  },
  {
   "cell_type": "code",
   "execution_count": 6,
   "metadata": {},
   "outputs": [
    {
     "name": "stdout",
     "output_type": "stream",
     "text": [
      "product of prime numbers between 1 to n\n",
      "Enter the number5\n",
      "The prime numbers are :\n",
      "[2, 3, 5]\n",
      "The product of prime numbers\n",
      "30\n"
     ]
    }
   ],
   "source": [
    "def generate_primeNumbers(n):\n",
    "    prime_list = []\n",
    "    if n==1:\n",
    "        return n\n",
    "    else:\n",
    "        for i in range(2,n+1):\n",
    "            check=0\n",
    "            for j in range(2,i):\n",
    "                if((i%j) == 0):\n",
    "                    check = 1  \n",
    "                    break\n",
    "            if(check == 0):\n",
    "                prime_list.append(i)\n",
    "        return prime_list\n",
    "\n",
    "def multiply(prime_list):\n",
    "    mult = 1\n",
    "    for k in prime_list:\n",
    "        mult = mult * k\n",
    "    return mult \n",
    "\n",
    "print(\"product of prime numbers between 1 to n\")\n",
    "number = int(input(\"Enter the number\"))\n",
    "number_list = []\n",
    "number_list = generate_primeNumbers(number)\n",
    "print(\"The prime numbers are :\")\n",
    "print(number_list)\n",
    "print(\"The product of prime numbers\")\n",
    "answer = multiply(number_list)\n",
    "print(answer)"
   ]
  },
  {
   "cell_type": "code",
   "execution_count": null,
   "metadata": {},
   "outputs": [],
   "source": [
    "#Another way of doing same\n",
    "def ProdOfPrimes(n): \n",
    "  \n",
    "    # Array to store prime numbers \n",
    "    prime = [True for i in range(n + 1)] \n",
    "  \n",
    "    # Create a boolean array \"prime[0..n]\" \n",
    "    # and initialize all entries it as true. \n",
    "    # A value in prime[i] will finally be \n",
    "    # false if i is Not a prime, else true. \n",
    "    p = 2\n",
    "    while(p * p <= n):  \n",
    "  \n",
    "        # If prime[p] is not changed,  \n",
    "        # then it is a prime \n",
    "        if (prime[p] == True):  \n",
    "  \n",
    "            # Update all multiples of p \n",
    "            i = p * 2\n",
    "            while(i <= n): \n",
    "                prime[i] = False\n",
    "                i += p \n",
    "        p += 1\n",
    "  \n",
    "    # Return product of primes  \n",
    "    # generated through Sieve. \n",
    "    prod = 1\n",
    "    for i in range(2, n+1): \n",
    "        if (prime[i]): \n",
    "            prod *= i \n",
    "    return prod \n",
    "  \n",
    "# Driver code \n",
    "n = 10\n",
    "print(ProdOfPrimes(n)) \n"
   ]
  },
  {
   "cell_type": "markdown",
   "metadata": {},
   "source": [
    "### Q5. Count of distinct sums that can be obtained by adding prime numbers from given arrays\n",
    "Given two arrays arr1[] and arr2[]. The task is to count the distinct sums that can be obtained while choosing a prime element from arr1[] and another prime element from arr2[].\n",
    "\n",
    "Examples:\n",
    "\n",
    "Input: arr1[] = {2, 3}, arr2[] = {2, 2, 4, 7}\n",
    "Output: 4\n",
    "All possible prime pairs are (2, 2), (2, 2), (2, 7), (3, 2), (3, 2)\n",
    "and (3, 7) with sums 4, 4, 9, 5, 5 and 10 respectively.\n",
    "\n",
    "Input: arr1[] = {3, 1, 4, 2, 5}, arr2[] = {8, 7, 10, 6, 5}\n",
    "Output: 5"
   ]
  },
  {
   "cell_type": "code",
   "execution_count": 7,
   "metadata": {},
   "outputs": [],
   "source": [
    "def prime_number(array):\n",
    "    prime_no = []\n",
    "    for i in array:\n",
    "        check = 0\n",
    "        if(i==1):\n",
    "            print(\"Got 1\")\n",
    "        elif(i==2):\n",
    "            prime_no.append(i)  \n",
    "        else:  \n",
    "            for j in (2,i+1):\n",
    "                if((i%j) == 0):\n",
    "                    check = 1\n",
    "                    break\n",
    "            if(check == 0):\n",
    "                prime_no.append(i)  \n",
    "    return prime_no"
   ]
  },
  {
   "cell_type": "code",
   "execution_count": null,
   "metadata": {},
   "outputs": [],
   "source": [
    "arr1 = []\n",
    "arr2 = []\n",
    "arr1 = [int(x) for x in input(\"Enter the array1: \").split()] \n",
    "arr2 = [int(x) for x in input(\"Enter the array2: \").split()]\n",
    "print(\"array1:\",end = ' ') \n",
    "print(arr1)\n",
    "print(\"array2:\",end = ' ') \n",
    "print(arr2)\n",
    "pri_arr1 = prime_number(arr1)\n",
    "pri_arr2 = prime_number(arr2)\n",
    "print(\"Prime array1:\",end = ' ')\n",
    "print(pri_arr1)\n",
    "print(\"Prime array2:\",end = ' ')\n",
    "print(pri_arr2)\n",
    "#Removing duplicancy from both list\n",
    "print(\"Removing duplictes\")\n",
    "pri_arr1 = list(dict.fromkeys(pri_arr1))\n",
    "pri_arr2 = list(dict.fromkeys(pri_arr2))\n",
    "print(\"Prime array1: \",pri_arr1)\n",
    "print(\"Prime array2: \",pri_arr2)\n",
    "\n",
    "print(\"The distictsum they can made is len of array1 + len of array2 : \", end =' ')\n",
    "print(len(pri_arr1)+ len((pri_arr2)))"
   ]
  },
  {
   "cell_type": "raw",
   "metadata": {},
   "source": [
    "\"\"\"Another way of doing this-----------\n",
    "\n",
    "MAX = 1000000\n",
    "\n",
    "prime = [True for i in range(MAX + 1)]\n",
    "#This function will genrate prime numbers from 0 to 1000000 as a dictionary form where 2 : true and 4: false\n",
    "\n",
    "def sieve():\n",
    "  prime[0], prime[1] = False, False\n",
    "  for p in range(2, MAX + 1):\n",
    "    if p * p > MAX:\n",
    "    break\n",
    "    if (prime[p] == True):\n",
    "      for i in range(2 * p, MAX + 1, p):\n",
    "        prime[i] = False\n",
    "\n",
    "#Function to return the distinct sums\n",
    "#that can be obtained by adding prime\n",
    "#numbers from the given arrays\n",
    "def distinctSum(arr1, arr2, m, n):\n",
    "  sieve()\n",
    "\n",
    "#Set to store distinct sums\n",
    "sumSet = dict()\n",
    "\n",
    "for i in range(m):\n",
    "  for j in range(n):\n",
    "    if (prime[arr1[i]] and prime[arr2[j]]):\n",
    "      sumSet[arr1[i] + arr2[j]] = 1\n",
    "\n",
    "return len(sumSet)\n",
    "\n",
    "#Driver code\n",
    "arr1 = [2, 3 ]\n",
    "arr2 = [2, 2, 4, 7 ]\n",
    "m = len(arr1)\n",
    "n = len(arr2)\n",
    "print(distinctSum(arr1, arr2, m, n))"
   ]
  },
  {
   "cell_type": "markdown",
   "metadata": {},
   "source": [
    "### Q6. W.A.P to add the matrix using nested loop?"
   ]
  },
  {
   "cell_type": "markdown",
   "metadata": {},
   "source": [
    "### Q7. W.A.P to sort words in an alphabetic order?"
   ]
  },
  {
   "cell_type": "markdown",
   "metadata": {},
   "source": [
    "### Q8. W.A.P to Check Armstrong Number #153 = 1*1*1 + 5*5*5 + 3*3*3  // 153 is an Armstrong number."
   ]
  },
  {
   "cell_type": "markdown",
   "metadata": {},
   "source": [
    "### Q9. W.A.P to check Pythagorean_triplet : if there is a triplet (a, b, c) within the array that satisfies a^2 + b^2 = c^2 Example: \n",
    "### Input: arr[] = [3, 1, 4, 6, 5] Output: True\n",
    "### There is a Pythagorean triplet (3, 4, 5) that exists in the input array."
   ]
  },
  {
   "cell_type": "code",
   "execution_count": null,
   "metadata": {},
   "outputs": [],
   "source": []
  }
 ],
 "metadata": {
  "kernelspec": {
   "display_name": "Python 3",
   "language": "python",
   "name": "python3"
  },
  "language_info": {
   "codemirror_mode": {
    "name": "ipython",
    "version": 3
   },
   "file_extension": ".py",
   "mimetype": "text/x-python",
   "name": "python",
   "nbconvert_exporter": "python",
   "pygments_lexer": "ipython3",
   "version": "3.7.4"
  }
 },
 "nbformat": 4,
 "nbformat_minor": 2
}
