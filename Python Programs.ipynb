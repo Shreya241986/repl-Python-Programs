{
 "cells": [
  {
   "cell_type": "markdown",
   "metadata": {},
   "source": [
    "# Python Programs"
   ]
  },
  {
   "cell_type": "markdown",
   "metadata": {},
   "source": [
    "### Q1. W.A.P to check the number is a prime number or not?"
   ]
  },
  {
   "cell_type": "code",
   "execution_count": 1,
   "metadata": {},
   "outputs": [],
   "source": [
    "def check_PrimeNumber():\n",
    "    print(\"Enter a number\")\n",
    "    num = int(input(\"> \"))\n",
    "    j=0\n",
    "    if num<2:\n",
    "        print(\"Enter number greater than 1\")\n",
    "    else:  \n",
    "        for i in range(2,num):\n",
    "            if((num % i) == 0):\n",
    "                print(\"Number is not a prime number\")\n",
    "                j=1\n",
    "                break\n",
    "\n",
    "    if j==0 and num>1:\n",
    "        print(\"Number is a prime number\")"
   ]
  },
  {
   "cell_type": "markdown",
   "metadata": {},
   "source": [
    "### Q2. W.A.P to print all the Prime Numbers in an interval?"
   ]
  },
  {
   "cell_type": "code",
   "execution_count": 2,
   "metadata": {},
   "outputs": [],
   "source": [
    "def print_PrimeNumbers():\n",
    "    lower_number = int(input(\"Enter the lower range\"))\n",
    "    upper_number = int(input(\"Enter the upper range\"))\n",
    "    for i in range(lower_number,upper_number):\n",
    "        a=0\n",
    "        for j in range(2,i):\n",
    "            if((i % j)==0):\n",
    "                a=1\n",
    "                break\n",
    "\n",
    "        if(a==0):\n",
    "            print(i) "
   ]
  },
  {
   "cell_type": "markdown",
   "metadata": {},
   "source": [
    "### Q3. W.A.P to add the matrix using nested loop?"
   ]
  },
  {
   "cell_type": "markdown",
   "metadata": {},
   "source": [
    "### Q4. W.A.P to sort words in an alphabetic order?"
   ]
  },
  {
   "cell_type": "markdown",
   "metadata": {},
   "source": [
    "### Q5. W.A.P to Check Armstrong Number #153 = 1*1*1 + 5*5*5 + 3*3*3  // 153 is an Armstrong number."
   ]
  },
  {
   "cell_type": "markdown",
   "metadata": {},
   "source": [
    "### Q6. W.A.P to check Pythagorean_triplet : if there is a triplet (a, b, c) within the array that satisfies a^2 + b^2 = c^2 Example: \n",
    "### Input: arr[] = [3, 1, 4, 6, 5] Output: True\n",
    "### There is a Pythagorean triplet (3, 4, 5) that exists in the input array."
   ]
  },
  {
   "cell_type": "code",
   "execution_count": null,
   "metadata": {},
   "outputs": [],
   "source": []
  }
 ],
 "metadata": {
  "kernelspec": {
   "display_name": "Python 3",
   "language": "python",
   "name": "python3"
  },
  "language_info": {
   "codemirror_mode": {
    "name": "ipython",
    "version": 3
   },
   "file_extension": ".py",
   "mimetype": "text/x-python",
   "name": "python",
   "nbconvert_exporter": "python",
   "pygments_lexer": "ipython3",
   "version": "3.7.4"
  }
 },
 "nbformat": 4,
 "nbformat_minor": 2
}
