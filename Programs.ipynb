{
 "cells": [
  {
   "cell_type": "code",
   "execution_count": 1,
   "metadata": {},
   "outputs": [
    {
     "name": "stdout",
     "output_type": "stream",
     "text": [
      "[5, 7, 9]\n",
      "[6, 8, 7]\n",
      "[9, 7, 5]\n"
     ]
    },
    {
     "data": {
      "text/plain": [
       "'\\nresult = [[A[i][j] + B[i][j]  for j in range(len(A[0]))] for i in range(len(A))]\\n\\nfor r in result:\\n   print(r)\\n'"
      ]
     },
     "execution_count": 1,
     "metadata": {},
     "output_type": "execute_result"
    }
   ],
   "source": [
    "#Matrix Addition using Nested Loop\n",
    "\n",
    "A = [[1,2,3],\n",
    "     [1,2,3],\n",
    "     [3,2,1]]\n",
    "\n",
    "B = [[4,5,6],\n",
    "     [5,6,4],\n",
    "     [6,5,4]]\n",
    "\n",
    "result = [[0,0,0],\n",
    "          [0,0,0],\n",
    "          [0,0,0]]\n",
    "\n",
    "\n",
    "for i in range(len(A)):\n",
    "  for j in range(len(A[0])):\n",
    "    result[i][j] = A[i][j] + B[i][j]\n",
    "\n",
    "for r in result:\n",
    "  print(r)\n",
    "\n",
    "#Source Code: Matrix Addition using Nested List Comprehension\n",
    "\"\"\"\n",
    "result = [[A[i][j] + B[i][j]  for j in range(len(A[0]))] for i in range(len(A))]\n",
    "\n",
    "for r in result:\n",
    "   print(r)\n",
    "\"\"\"\n"
   ]
  },
  {
   "cell_type": "code",
   "execution_count": 2,
   "metadata": {},
   "outputs": [
    {
     "name": "stdout",
     "output_type": "stream",
     "text": [
      "Enter the sentence: hello I'm Shreya Mohadikar\n",
      "I'm\n",
      "Mohadikar\n",
      "Shreya\n",
      "hello\n"
     ]
    }
   ],
   "source": [
    "#Python Program to Sort Words in Alphabetic Order\n",
    "string = input(\"Enter the sentence: \")\n",
    "words =string.split()\n",
    "words.sort()\n",
    "for word in words:\n",
    "  print(word)\n",
    "   "
   ]
  },
  {
   "cell_type": "code",
   "execution_count": 4,
   "metadata": {},
   "outputs": [
    {
     "name": "stdout",
     "output_type": "stream",
     "text": [
      "Enter lower range100\n",
      "Enter upper range200\n",
      "153\n"
     ]
    }
   ],
   "source": [
    "#Python Program to Check Armstrong Number\n",
    "#A positive integer is called an Armstrong number if \n",
    "#153 = 1*1*1 + 5*5*5 + 3*3*3  // 153 is an Armstrong number.\n",
    "\n",
    "#if its a two digit number than each digit square is taken and if its a three digit then cube is taken. \n",
    "\n",
    "\"\"\"\n",
    "number = input(\"Enter the number: \")\n",
    "numb = int(number)\n",
    "#Now we will convert them in list\n",
    "\n",
    "\n",
    "num = list(number)\n",
    "#print(num)\n",
    "# now we will take out the length\n",
    "power = len(num)\n",
    "#print(\"power is\",power)\n",
    "total = 0\n",
    "for i in range(0,power):\n",
    "    #print(num[i])\n",
    "    p = int(num[i]) ** power\n",
    "    print(f\"{p}+\",end='')\n",
    "    total = total + p\n",
    "print()\n",
    "#print(total)\n",
    "return total\n",
    "\n",
    "\n",
    "if(total == numb):\n",
    "  print(f\"{total} == {numb}\")\n",
    "  print(\"Its an armstrong number\")\n",
    "else:\n",
    "  print(f\"{total} != {numb}\")\n",
    "  print(\"Its not an armstrong number\")  \n",
    "\"\"\"\n",
    "\n",
    "#Another way of doing this\n",
    "def armstrong(num):\n",
    "  totals = 0\n",
    "  order = len(str(num))\n",
    "  # initialize sum\n",
    "  sum = 0\n",
    "  # find the sum of the cube of each digit\n",
    "  temp = num\n",
    "  while temp > 0:\n",
    "    digit = temp % 10\n",
    "    totals += digit ** order\n",
    "    temp //= 10\n",
    "  return totals\n",
    "\n",
    "\"\"\"\n",
    "# display the result\n",
    "if num == sum:\n",
    "   print(num,\"is an Armstrong number\")\n",
    "else:\n",
    "   print(num,\"is not an Armstrong number\")\n",
    "\n",
    "\"\"\"\n",
    "#Python Program to Find Armstrong Number in an Interval\n",
    "lower = int(input(\"Enter lower range\"))\n",
    "upper = int(input(\"Enter upper range\"))\n",
    "\n",
    "# check its armstrong or not\n",
    "def check(tot,num):\n",
    "  if(tot == num):\n",
    "    print(num)  \n",
    "\n",
    "for i in range(lower,upper):\n",
    "  tot = armstrong(i)\n",
    "  check(tot,i)"
   ]
  },
  {
   "cell_type": "markdown",
   "metadata": {},
   "source": [
    "### Given an array of integers, can you write a function that returns \"True\" if there is a triplet (a, b, c) within the array that satisfies a^2 + b^2 = c^2?\n",
    "\n",
    "For example:\n",
    "\n",
    "Input: arr[] = [3, 1, 4, 6, 5]\n",
    "Output: True\n",
    "#There is a Pythagorean triplet (3, 4, 5) that exists in the input array.\n",
    "\n",
    "Input: arr[] = {10, 4, 6, 12, 5}\n",
    "Output: False\n",
    "#There is no Pythagorean triplet that exists in the input array."
   ]
  },
  {
   "cell_type": "code",
   "execution_count": 22,
   "metadata": {
    "scrolled": true
   },
   "outputs": [],
   "source": [
    "import numpy as np\n",
    "def Pythagorean_triplet(nlist):\n",
    "    for a in nlist:\n",
    "        print(\"a:\",a)\n",
    "        index_of_b = nlist.index(a)+1 #should be next number after a\n",
    "        if a == nlist[-1]: # last number\n",
    "            return False\n",
    "        else:\n",
    "            b = nlist[index_of_b]\n",
    "            print(\"b:\")\n",
    "            for num in nlist[2:]:\n",
    "                print(a,b)\n",
    "                c = np.sqrt((a*a)+(b**2))\n",
    "                print(\"c\",c)\n",
    "                if c in nlist:\n",
    "                    return True\n",
    "                    break\n",
    "                else:\n",
    "            #checking all possible combination for b without changing a\n",
    "                    b = num \n",
    "                    if b == nlist[-1]:\n",
    "                        print(a,b)\n",
    "                        c = np.sqrt((a*a)+(b**2))\n",
    "                        print(\"c\",c)\n",
    "                        if c in nlist:\n",
    "                            return True\n",
    "                            break\n",
    "                    elif nlist.index(a)==nlist.index(b):\n",
    "                        \n",
    "                "
   ]
  },
  {
   "cell_type": "code",
   "execution_count": 23,
   "metadata": {
    "scrolled": true
   },
   "outputs": [
    {
     "name": "stdout",
     "output_type": "stream",
     "text": [
      "a: 3\n",
      "b:\n",
      "3 1\n",
      "c 3.1622776601683795\n",
      "3 4\n",
      "c 5.0\n"
     ]
    },
    {
     "data": {
      "text/plain": [
       "True"
      ]
     },
     "execution_count": 23,
     "metadata": {},
     "output_type": "execute_result"
    }
   ],
   "source": [
    "Pythagorean_triplet([3,1,4,6,5])"
   ]
  },
  {
   "cell_type": "code",
   "execution_count": 24,
   "metadata": {
    "scrolled": false
   },
   "outputs": [
    {
     "name": "stdout",
     "output_type": "stream",
     "text": [
      "a: 10\n",
      "b:\n",
      "10 4\n",
      "c 10.770329614269007\n",
      "10 6\n",
      "c 11.661903789690601\n",
      "10 12\n",
      "c 15.620499351813308\n",
      "10 5\n",
      "c 11.180339887498949\n",
      "a: 4\n",
      "b:\n",
      "4 6\n",
      "c 7.211102550927978\n",
      "4 6\n",
      "c 7.211102550927978\n",
      "4 12\n",
      "c 12.649110640673518\n",
      "4 5\n",
      "c 6.4031242374328485\n",
      "a: 6\n",
      "b:\n",
      "6 12\n",
      "c 13.416407864998739\n",
      "6 6\n",
      "c 8.48528137423857\n",
      "6 12\n",
      "c 13.416407864998739\n",
      "6 5\n",
      "c 7.810249675906654\n",
      "a: 12\n",
      "b:\n",
      "12 5\n",
      "c 13.0\n",
      "12 6\n",
      "c 13.416407864998739\n",
      "12 12\n",
      "c 16.97056274847714\n",
      "12 5\n",
      "c 13.0\n",
      "a: 5\n"
     ]
    },
    {
     "data": {
      "text/plain": [
       "False"
      ]
     },
     "execution_count": 24,
     "metadata": {},
     "output_type": "execute_result"
    }
   ],
   "source": [
    "Pythagorean_triplet([10,4,6,12,5])"
   ]
  },
  {
   "cell_type": "code",
   "execution_count": 20,
   "metadata": {},
   "outputs": [
    {
     "name": "stdout",
     "output_type": "stream",
     "text": [
      "6\n",
      "12\n",
      "5\n"
     ]
    }
   ],
   "source": [
    "nlist=[10,4,6,12,5]\n",
    "for num in nlist[2:]:\n",
    "    print(num)"
   ]
  },
  {
   "cell_type": "code",
   "execution_count": null,
   "metadata": {},
   "outputs": [],
   "source": []
  }
 ],
 "metadata": {
  "kernelspec": {
   "display_name": "Python 3",
   "language": "python",
   "name": "python3"
  },
  "language_info": {
   "codemirror_mode": {
    "name": "ipython",
    "version": 3
   },
   "file_extension": ".py",
   "mimetype": "text/x-python",
   "name": "python",
   "nbconvert_exporter": "python",
   "pygments_lexer": "ipython3",
   "version": "3.7.4"
  }
 },
 "nbformat": 4,
 "nbformat_minor": 2
}
